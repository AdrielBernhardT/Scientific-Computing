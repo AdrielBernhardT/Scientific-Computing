{
 "cells": [
  {
   "cell_type": "code",
   "execution_count": 25,
   "metadata": {},
   "outputs": [],
   "source": [
    "import numpy as np"
   ]
  },
  {
   "cell_type": "markdown",
   "metadata": {},
   "source": [
    "#### Function & Derivative"
   ]
  },
  {
   "cell_type": "code",
   "execution_count": 26,
   "metadata": {},
   "outputs": [],
   "source": [
    "def f(x):\n",
    "    # 8x^5 - 10x^4 + x^3 + 2x^2 - 9x + 13\n",
    "    return (8*(x**5))-(10*(x**4))+(x**3)+(2*(x**2))-(9*x)+(13)\n",
    "\n",
    "def g(x): \n",
    "    # Turunan dari f(x)\n",
    "    return (40*(x**4))-(40*(x**3))+(3*(x**2))+(4*x)-9"
   ]
  },
  {
   "cell_type": "markdown",
   "metadata": {},
   "source": [
    "#### Newton Raphson"
   ]
  },
  {
   "cell_type": "code",
   "execution_count": 27,
   "metadata": {},
   "outputs": [],
   "source": [
    "def newton_raphson(x, tolerance=0.09, max_iteration=50):\n",
    "    for i in range(max_iteration):\n",
    "        x = x - (f(x)/g(x))\n",
    "        print(\"Iterasi ke-\", i+1, \":\", x)\n",
    "        if np.abs(f(x)) < tolerance:\n",
    "            return x"
   ]
  },
  {
   "cell_type": "markdown",
   "metadata": {},
   "source": [
    "#### Bisection"
   ]
  },
  {
   "cell_type": "code",
   "execution_count": 39,
   "metadata": {},
   "outputs": [],
   "source": [
    "iteration = 0\n",
    "\n",
    "def bisection(left, right, max_tolerance=0.09):\n",
    "    global iteration\n",
    "    iteration += 1\n",
    "\n",
    "    if np.sign(f(left)) == np.sign(f(right)):\n",
    "        print(\"No Root\")\n",
    "        return False\n",
    "    \n",
    "    x = (left + right) / 2\n",
    "\n",
    "    print(f\"iteration {iteration} f({x}) = {f(x)})\")\n",
    "\n",
    "    if np.abs(f(x)) < max_tolerance:\n",
    "        print(\"Root Found at\", iteration,\":\" , x)\n",
    "        return True\n",
    "    if np.sign(f(left)) == np.sign(f(x)):\n",
    "        return bisection(x, right)\n",
    "    if np.sign(f(right)) == np.sign(f(x)):\n",
    "        return bisection(left, x)\n"
   ]
  },
  {
   "cell_type": "code",
   "execution_count": 40,
   "metadata": {},
   "outputs": [
    {
     "name": "stdout",
     "output_type": "stream",
     "text": [
      "iteration 1 f(0.0) = 13.0)\n",
      "iteration 2 f(-5.0) = -31267.0)\n",
      "iteration 3 f(-2.5) = -1139.5)\n",
      "iteration 4 f(-1.25) = -23.40625)\n",
      "iteration 5 f(-0.625) = 16.873291015625)\n",
      "iteration 6 f(-0.9375) = 8.853004455566406)\n",
      "iteration 7 f(-1.09375) = -2.905379056930542)\n",
      "iteration 8 f(-1.015625) = 3.87136160582304)\n",
      "iteration 9 f(-1.0546875) = 0.7299417986068875)\n",
      "iteration 10 f(-1.07421875) = -1.0230034934575087)\n",
      "iteration 11 f(-1.064453125) = -0.1307314031948863)\n",
      "iteration 12 f(-1.0595703125) = 0.3035082712643984)\n",
      "iteration 13 f(-1.06201171875) = 0.08737002287372775)\n",
      "Root Found at 13 : -1.06201171875\n"
     ]
    },
    {
     "data": {
      "text/plain": [
       "True"
      ]
     },
     "execution_count": 40,
     "metadata": {},
     "output_type": "execute_result"
    }
   ],
   "source": [
    "iteration = 0\n",
    "bisection(-10, 10)"
   ]
  },
  {
   "cell_type": "code",
   "execution_count": 41,
   "metadata": {},
   "outputs": [
    {
     "name": "stdout",
     "output_type": "stream",
     "text": [
      "Iterasi ke- 1 : 7.2547420252622565\n",
      "Iterasi ke- 2 : 5.859833968100039\n",
      "Iterasi ke- 3 : 4.745617337498255\n",
      "Iterasi ke- 4 : 3.8565165911445716\n",
      "Iterasi ke- 5 : 3.1482553068992942\n",
      "Iterasi ke- 6 : 2.585561458329763\n",
      "Iterasi ke- 7 : 2.140083720935192\n",
      "Iterasi ke- 8 : 1.7879859885392848\n",
      "Iterasi ke- 9 : 1.5059103382422392\n",
      "Iterasi ke- 10 : 1.2601299290201171\n",
      "Iterasi ke- 11 : 0.9345804870757799\n",
      "Iterasi ke- 12 : 2.028659649024925\n",
      "Iterasi ke- 13 : 1.6995566984958552\n",
      "Iterasi ke- 14 : 1.432603107938619\n",
      "Iterasi ke- 15 : 1.1851437196987256\n",
      "Iterasi ke- 16 : 0.7142209573664935\n",
      "Iterasi ke- 17 : 1.4936241468327194\n",
      "Iterasi ke- 18 : 1.2481395754482847\n",
      "Iterasi ke- 19 : 0.9080171337566801\n",
      "Iterasi ke- 20 : 1.8578643237083723\n",
      "Iterasi ke- 21 : 1.562754312674504\n",
      "Iterasi ke- 22 : 1.3134515186188525\n",
      "Iterasi ke- 23 : 1.0317467598682932\n",
      "Iterasi ke- 24 : 18.45722507967781\n",
      "Iterasi ke- 25 : 14.817992653845046\n",
      "Iterasi ke- 26 : 11.90717367242369\n",
      "Iterasi ke- 27 : 9.579240300462283\n",
      "Iterasi ke- 28 : 7.717820204717728\n",
      "Iterasi ke- 29 : 6.229886126963127\n",
      "Iterasi ke- 30 : 5.041116572409182\n",
      "Iterasi ke- 31 : 4.0921935638777445\n",
      "Iterasi ke- 32 : 3.3358402574930848\n",
      "Iterasi ke- 33 : 2.7344082793135978\n",
      "Iterasi ke- 34 : 2.2577717057285396\n",
      "Iterasi ke- 35 : 1.881096844218818\n",
      "Iterasi ke- 36 : 1.5815079862457488\n",
      "Iterasi ke- 37 : 1.330416940334599\n",
      "Iterasi ke- 38 : 1.0575839297049068\n",
      "Iterasi ke- 39 : -2.7396304026379443\n",
      "Iterasi ke- 40 : -2.165989611538152\n",
      "Iterasi ke- 41 : -1.7219910947978683\n",
      "Iterasi ke- 42 : -1.3945862581470614\n",
      "Iterasi ke- 43 : -1.1822891479876367\n",
      "Iterasi ke- 44 : -1.0840483627326196\n",
      "Iterasi ke- 45 : -1.0637779523924897\n",
      "Root:  -1.0637779523924897\n"
     ]
    }
   ],
   "source": [
    "print(f\"Root: \", newton_raphson(9))"
   ]
  }
 ],
 "metadata": {
  "kernelspec": {
   "display_name": "base",
   "language": "python",
   "name": "python3"
  },
  "language_info": {
   "codemirror_mode": {
    "name": "ipython",
    "version": 3
   },
   "file_extension": ".py",
   "mimetype": "text/x-python",
   "name": "python",
   "nbconvert_exporter": "python",
   "pygments_lexer": "ipython3",
   "version": "3.12.7"
  }
 },
 "nbformat": 4,
 "nbformat_minor": 2
}
