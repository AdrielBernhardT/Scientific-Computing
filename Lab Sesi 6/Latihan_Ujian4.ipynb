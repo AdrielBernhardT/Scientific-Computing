{
 "cells": [
  {
   "cell_type": "markdown",
   "id": "d3c6c88d",
   "metadata": {},
   "source": [
    "## Quick Quiz Prep (Definitely not official by any means)\n",
    "\n",
    "Berikut adalah gambaran kasar soal apa yang mungkin keluar di quiz. Perhatikan bahwa semua yang ditulis di sini belum tentu akan semuanya keluar di quiz. Di sini hanya untuk memberikan gambaran kasar apa saja yang harus dipersiapkan nanti...\n",
    "\n",
    "Jika ada pertanyaan, langsung tanya saja ya. Good luck\n",
    "༼ つ ◕_◕ ༽つ"
   ]
  },
  {
   "cell_type": "code",
   "execution_count": 11,
   "id": "f639a4a9",
   "metadata": {},
   "outputs": [],
   "source": [
    "# Import library\n",
    "import numpy as np\n",
    "import matplotlib.pyplot as plt"
   ]
  },
  {
   "cell_type": "markdown",
   "id": "c64faf84",
   "metadata": {},
   "source": [
    "### No 1. Linear Equation\n",
    "\n",
    "Diketahui sistem persamaan linear berikut:\n",
    "\n",
    "$\\begin{cases}\n",
    "10a + b + c = 12 \\\\\n",
    "2a - 10b + c = 13 \\\\\n",
    "2a + 2b + 5c = 14\n",
    "\\end{cases}$\n",
    "\n",
    "Gunakan metode **Gauss-Seidel** untuk menentukan nilai dari \\(a\\), \\(b\\), dan \\(c\\) dengan toleransi \\(ε = 0.001\\), dengan tebakan awal a = 0, b = 0, c = 0, dan iterasi maksimal sebanyak 30 kali \n"
   ]
  },
  {
   "cell_type": "code",
   "execution_count": 17,
   "id": "8dcbbe86",
   "metadata": {},
   "outputs": [
    {
     "name": "stdout",
     "output_type": "stream",
     "text": [
      "converged\n"
     ]
    },
    {
     "data": {
      "text/plain": [
       "array([ 1.00992167, -0.82540131,  2.72619186])"
      ]
     },
     "execution_count": 17,
     "metadata": {},
     "output_type": "execute_result"
    }
   ],
   "source": [
    "## Template...\n",
    "Xs = [\n",
    "  [10, 1, 1],\n",
    "  [2, -10, 1],\n",
    "  [2, 2, 5]\n",
    "]\n",
    "Ys = [12, 13, 14]\n",
    "\n",
    "## Mulai dari sini...\n",
    "def DiagonalDominant(x):\n",
    "    x = np.array(x)\n",
    "    diag = np.diag(np.abs(x))\n",
    "    off_diag = np.sum(x,axis=1) - diag\n",
    "    return np.all(diag>off_diag)\n",
    "\n",
    "def GaussSeidel(x,y,tol,max):\n",
    "    if not DiagonalDominant(x):\n",
    "        return \"not diagonal dominant\"\n",
    "    \n",
    "    x = np.array(x)\n",
    "    y = np.array(y)\n",
    "    diag = np.diag(x)\n",
    "    x = -x\n",
    "    np.fill_diagonal(x,0)\n",
    "    old_res = np.zeros(len(x[0]))\n",
    "    for i in range(max):\n",
    "        new_res = np.array(old_res)\n",
    "        for index, row in enumerate(x):\n",
    "            new_res[index] = (y[index] + np.dot(row,new_res))/diag[index]\n",
    "        distance = np.sqrt(np.dot(old_res-new_res,old_res-new_res))\n",
    "        if distance <= tol:\n",
    "            print(\"converged\")\n",
    "            return new_res\n",
    "        old_res = new_res\n",
    "\n",
    "GaussSeidel(Xs,Ys,0.001,30)"
   ]
  },
  {
   "cell_type": "markdown",
   "id": "8df3cbfe",
   "metadata": {},
   "source": [
    "### No 2. Linear Regression\n",
    "\n",
    "Buatlah persaman garis trend terhadap x dengan y menggunakan linear regression\n",
    "\n",
    "Gunakan rumus berikut sebagai panduan (rumus tidak akan diberikan saat quiz)\n",
    "\n",
    "$\\boldsymbol{\\beta} = (A^\\top A)^{-1} A^\\top {Y}$\n"
   ]
  },
  {
   "cell_type": "code",
   "execution_count": 13,
   "id": "b5ebcb48",
   "metadata": {},
   "outputs": [
    {
     "name": "stdout",
     "output_type": "stream",
     "text": [
      "[[2.43773374]\n",
      " [4.5530113 ]]\n"
     ]
    },
    {
     "data": {
      "image/png": "[encoded data removed]",
      "text/plain": [
       "<Figure size 640x480 with 1 Axes>"
      ]
     },
     "metadata": {},
     "output_type": "display_data"
    }
   ],
   "source": [
    "## Template...\n",
    "x = [3.7454, 9.5071, 7.3199, 5.9866, 1.5602, 1.5599, 0.5808, 8.6618, 6.0112, 7.0807,\n",
    "  0.2058, 9.6991, 8.3244, 2.1234, 1.8182, 1.8340, 3.0424, 5.2476, 4.3195, 2.9123,\n",
    "  6.1185, 1.3949, 2.9214, 3.6636, 4.5607, 7.8518, 1.9967, 5.1423, 5.9241, 0.4645,\n",
    "  6.0754, 1.7052, 0.6505, 9.4889, 9.6563, 8.0839, 3.0461, 2.9398, 9.0851, 0.8926,\n",
    "  3.6618, 6.0112, 7.0807, 0.2058, 9.6991, 8.3244, 2.1234, 1.8182, 1.8340, 3.0424]\n",
    "y = [14.7732, 27.3086, 21.9848, 19.1797, 6.3277, 9.7238, 5.8392, 25.0594, 19.8312, 22.6396,\n",
    "  5.0127, 30.4071, 23.7478, 10.2182, 9.5024, 9.3109, 10.5543, 17.5202, 14.1518, 11.1426,\n",
    "  18.3864, 6.2259, 13.4306, 12.2331, 16.8864, 24.2649, 9.5713, 16.1173, 19.4648, 6.1537,\n",
    "  18.3104, 9.5916, 5.6269, 27.8698, 26.2203, 22.1328, 12.8021, 11.7026, 28.0513, 6.5832,\n",
    "  12.8237, 18.8369, 21.6254, 4.6521, 29.8769, 25.2628, 10.5312, 9.3773, 10.5647, 11.6133]\n",
    "\n",
    "## Mulai dari sini...\n",
    "x = np.array(x)\n",
    "y = np.array(y)\n",
    "\n",
    "A = np.vstack([x,np.ones(len(x))]).T # Hafalin\n",
    "\n",
    "Y = y[:,np.newaxis]\n",
    "\n",
    "alpha = np.dot(np.dot(np.linalg.inv(np.dot(A.T,A)),A.T),Y)\n",
    "\n",
    "print(alpha)\n",
    "plt.plot(x,y,\"ro\")\n",
    "plt.plot(x,alpha[0]*x+ alpha[1], \"b-\") # Hafalin\n",
    "plt.show()"
   ]
  },
  {
   "cell_type": "markdown",
   "id": "152602ba",
   "metadata": {},
   "source": [
    "### No 3. Root of Equation\n",
    "\n",
    "Gunakan metode **Newton Raphson** untuk menentukan root of equation dari persamaan dengan toleransi \\(ε = 0.001\\), dan maksimal iterasi = 30\n",
    "\n",
    "$f(x) = -2x^3 - 6x^2 + 12x - 7$\n",
    "\n",
    "Untuk nilai prediksi awal ditentukan sendiri (bebas)"
   ]
  },
  {
   "cell_type": "code",
   "execution_count": 14,
   "id": "f7ca0b71",
   "metadata": {},
   "outputs": [
    {
     "name": "stdout",
     "output_type": "stream",
     "text": [
      "found at root 1.709045337262638\n",
      "-0.0001539149297506981\n"
     ]
    }
   ],
   "source": [
    "## Template\n",
    "def f(x):\n",
    "  return -2 * (x ** 3) - 6 * (x ** 2) + 12 * x + 7\n",
    "\n",
    "## Mulai dari sini...\n",
    "def g(x):\n",
    "  return -6*(x**2)-12*x+12\n",
    "\n",
    "def NewtonRaphson(x0,tol):\n",
    "  x1 = x0 - f(x0)/g(x0)\n",
    "  fx1 = f(x1)\n",
    "  if(np.abs(fx1) <= tol):\n",
    "    print(f\"found at root {x1}\")\n",
    "    print(fx1)\n",
    "    return\n",
    "  else:\n",
    "    NewtonRaphson(x1,tol)\n",
    "\n",
    "NewtonRaphson(123,0.001)"
   ]
  },
  {
   "cell_type": "markdown",
   "id": "f3f578b6",
   "metadata": {},
   "source": [
    "### No 4. Riemann Integral\n",
    "\n",
    "Gunakan metode **Left Riemann Sum** Untuk menentukan estimasi luas area dengan persamaan\n",
    "\n",
    "$f(x) = 3x^2 - 4$\n",
    "\n",
    "Pada interval $x = 3$ hingga $x = 5$, dengan interval $n = 20$"
   ]
  },
  {
   "cell_type": "code",
   "execution_count": null,
   "id": "03acc7fa",
   "metadata": {},
   "outputs": [],
   "source": [
    "## Template\n",
    "def f(x):\n",
    "  return 3 * (x ** 2) - 4\n",
    "\n",
    "## Mulai dari sini...\n",
    "atas = 5\n",
    "bawah = 3\n",
    "n = 20\n",
    "\n",
    "deltaX = (atas-bawah)/(n-1)\n",
    "x = np.linspace(bawah,atas,n)\n",
    "y = f(x)\n",
    "leftRiemann = np.sum(deltaX*y[:n-1])\n",
    "print(leftRiemann)"
   ]
  }
 ],
 "metadata": {
  "kernelspec": {
   "display_name": "base",
   "language": "python",
   "name": "python3"
  },
  "language_info": {
   "codemirror_mode": {
    "name": "ipython",
    "version": 3
   },
   "file_extension": ".py",
   "mimetype": "text/x-python",
   "name": "python",
   "nbconvert_exporter": "python",
   "pygments_lexer": "ipython3",
   "version": "3.12.7"
  }
 },
 "nbformat": 4,
 "nbformat_minor": 5
}
