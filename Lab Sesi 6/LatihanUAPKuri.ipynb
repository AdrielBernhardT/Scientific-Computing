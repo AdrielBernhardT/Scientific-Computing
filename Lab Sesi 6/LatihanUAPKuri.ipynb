{
 "cells": [
  {
   "cell_type": "code",
   "execution_count": 2,
   "id": "d787c759",
   "metadata": {},
   "outputs": [],
   "source": [
    "import numpy as np\n",
    "import matplotlib.pyplot as plt"
   ]
  },
  {
   "cell_type": "markdown",
   "id": "e5ebe701",
   "metadata": {},
   "source": [
    "## A. Linear Equation\n",
    "Diberikan beberapa matriks di bawah, selesaikan semua matriks (soal 1 hingga 3) dengan metode gauss seidel dengan max iterasinya adalah 45, dan epsilon atau TOL nya adalah 0.001"
   ]
  },
  {
   "cell_type": "markdown",
   "id": "976030ec",
   "metadata": {},
   "source": [
    "Soal 1"
   ]
  },
  {
   "cell_type": "code",
   "execution_count": 3,
   "id": "746dbbde",
   "metadata": {},
   "outputs": [
    {
     "name": "stdout",
     "output_type": "stream",
     "text": [
      "Matrix 1: DIAGONAL DOMINAN\n",
      "iteration 1 : [2.4        1.53333333 1.86666667]\n",
      "iteration 2 : [1.34666667 1.57333333 2.01142857]\n",
      "iteration 3 : [1.2807619  1.5711746  2.02115193]\n",
      "iteration 4 : [1.27730431 1.57070658 2.02171273]\n",
      "iteration 5 : [1.27717359 1.57065668 2.02173853]\n",
      "converged\n",
      "[1.27717359 1.57065668 2.02173853]\n",
      "\n",
      "Matrix 2: DIAGONAL DOMINAN\n",
      "iteration 1 : [1.3        2.0875     1.72083333]\n",
      "iteration 2 : [1.05458333 1.68796875 1.73097801]\n",
      "iteration 3 : [1.13550405 1.67531749 1.71158993]\n",
      "iteration 4 : [1.13609549 1.68009058 1.71198884]\n",
      "iteration 5 : [1.13518077 1.68010519 1.71219374]\n",
      "converged\n",
      "[1.13518077 1.68010519 1.71219374]\n",
      "\n",
      "Matrix 3: DIAGONAL DOMINAN\n",
      "iteration 1 : [1.83333333 1.92857143 1.77380952]\n",
      "iteration 2 : [1.85912698 1.41071429 1.63789683]\n",
      "iteration 3 : [1.79546958 1.47682823 1.67033966]\n",
      "iteration 4 : [1.80108143 1.46515377 1.66601809]\n",
      "iteration 5 : [1.79985595 1.46691371 1.66676444]\n",
      "iteration 6 : [1.80002488 1.46662807 1.6666508 ]\n",
      "converged\n",
      "[1.80002488 1.46662807 1.6666508 ]\n",
      "\n",
      "Matrix 4: DIAGONAL DOMINAN\n",
      "iteration 1 : [2.5 2.1 0.9]\n",
      "iteration 2 : [1.225 1.995 1.555]\n",
      "iteration 3 : [1.11375    1.75525    1.65058333]\n",
      "iteration 4 : [1.20972917 1.69782083 1.61216528]\n",
      "iteration 5 : [1.24804826 1.70552424 1.59172183]\n",
      "iteration 6 : [1.24930742 1.71344978 1.58977132]\n",
      "iteration 7 : [1.24583228 1.71492502 1.59126303]\n",
      "iteration 8 : [1.24472174 1.71455044 1.59188072]\n",
      "iteration 9 : [1.2447546  1.71429679 1.59190657]\n",
      "converged\n",
      "[1.2447546  1.71429679 1.59190657]\n",
      "\n",
      "Matrix 5: DIAGONAL DOMINAN\n",
      "iteration 1 : [2.125      1.31944444 1.07916667]\n",
      "iteration 2 : [2.02013889 1.21118827 1.13261574]\n",
      "iteration 3 : [1.9932446  1.20823774 1.13887976]\n",
      "iteration 4 : [1.99130978 1.20775672 1.13941103]\n",
      "iteration 5 : [1.99111683 1.20771913 1.1394609 ]\n",
      "converged\n",
      "[1.99111683 1.20771913 1.1394609 ]\n",
      "\n"
     ]
    }
   ],
   "source": [
    "x = [\n",
    "    [\n",
    "        [5, 1, 2],\n",
    "        [2, 6, 1],\n",
    "        [1, 1, 7]\n",
    "    ],\n",
    "    [\n",
    "        [10, 2, -1],\n",
    "        [1, 8, 2],\n",
    "        [2, -1, 9]\n",
    "    ],\n",
    "    [\n",
    "        [6, -1, 1],\n",
    "        [3, 7, 2],\n",
    "        [2, -2, 8]\n",
    "    ],\n",
    "    [\n",
    "        [4, 2, 1],\n",
    "        [1, 5, 2],\n",
    "        [3, 1, 6]\n",
    "    ],\n",
    "    [\n",
    "        [8, -1, 2],\n",
    "        [1, 9, 1],\n",
    "        [2, 3, 10]\n",
    "    ]\n",
    "]\n",
    "y = [\n",
    "    [12, 14, 17],\n",
    "    [13, 18, 16],\n",
    "    [11, 19, 14],\n",
    "    [10, 13, 15],\n",
    "    [17, 14, 19]\n",
    "]\n",
    "\n",
    "def DiagonalDominant(x):\n",
    "    x = np.array(np.abs(x))\n",
    "    diag = np.diag(abs(x))\n",
    "    off_diag = np.sum(x,axis=1) - diag\n",
    "    return np.all(diag > off_diag)\n",
    "\n",
    "def GaussSeidel(x,y,tol = 0.001,max = 45):\n",
    "    x = np.array(x)\n",
    "    y = np.array(y)\n",
    "    diag = np.diag(x)\n",
    "    x = -x\n",
    "    np.fill_diagonal(x,0)\n",
    "    old_res = np.zeros(len(x[0]))\n",
    "    for i in range(max):\n",
    "        new_res = np.array(old_res)\n",
    "        for index, row in enumerate(x):\n",
    "            new_res[index] = (y[index]+np.dot(row,new_res))/diag[index]\n",
    "        print(f\"iteration {i+1} : {new_res}\")\n",
    "        distance = np.sqrt(np.dot(old_res-new_res,old_res-new_res))\n",
    "        if distance <= tol:\n",
    "            print(\"converged\")\n",
    "            print(new_res)\n",
    "            return\n",
    "        old_res = new_res\n",
    "\n",
    "def run(x,y):\n",
    "    for idx,matrix in enumerate(x):\n",
    "        print(f\"Matrix {idx+1}: \", end=\"\")\n",
    "        if DiagonalDominant(matrix):\n",
    "            print(\"DIAGONAL DOMINAN\")\n",
    "            GaussSeidel(matrix,y[idx])\n",
    "        else:\n",
    "            print(\"NOT DIAGONAL DOMINAN\")\n",
    "        print()\n",
    "run(x,y)"
   ]
  },
  {
   "cell_type": "markdown",
   "id": "5979e247",
   "metadata": {},
   "source": [
    "Soal 2"
   ]
  },
  {
   "cell_type": "code",
   "execution_count": 4,
   "id": "aeb4df3b",
   "metadata": {},
   "outputs": [
    {
     "name": "stdout",
     "output_type": "stream",
     "text": [
      "Matrix 1: Diagonal Dominant\n",
      "Iteration 1: [1.88888889 1.63888889 1.66111111]\n",
      "Iteration 2: [1.70185185 1.86990741 1.76342593]\n",
      "Iteration 3: [1.70478395 1.88233025 1.76503086]\n",
      "Iteration 4: [1.70580761 1.88240291 1.7647383 ]\n",
      "Iteration 5: [1.7058807  1.8823572  1.76470723]\n",
      "Converged\n",
      "[1.7058807  1.8823572  1.76470723]\n",
      "\n",
      "Matrix 2: Diagonal Dominant\n",
      "Iteration 1: [1.71428571 1.88095238 0.54761905]\n",
      "Iteration 2: [1.09863946 1.80102041 0.71107332]\n",
      "Iteration 3: [1.09812655 1.74662114 0.72932039]\n",
      "Iteration 4: [1.11106248 1.73838279 0.72919185]\n",
      "Iteration 5: [1.11343465 1.73803027 0.72878221]\n",
      "Iteration 6: [1.11359389 1.73814028 0.72871015]\n",
      "Converged\n",
      "[1.11359389 1.73814028 0.72871015]\n",
      "\n",
      "Matrix 3: Diagonal Dominant\n",
      "Iteration 1: [2.16666667 1.52380952 0.80654762]\n",
      "Iteration 2: [1.64384921 1.55796485 0.99406533]\n",
      "Iteration 3: [1.57565075 1.55066188 1.0214655 ]\n",
      "Iteration 4: [1.56773452 1.54900935 1.02484722]\n",
      "Iteration 5: [1.5668827  1.54876963 1.02522658]\n",
      "Converged\n",
      "[1.5668827  1.54876963 1.02522658]\n",
      "\n",
      "Matrix 4: Diagonal Dominant\n",
      "Iteration 1: [2.         1.11111111 1.73015873]\n",
      "Iteration 2: [2.29365079 0.85361552 1.65142353]\n",
      "Iteration 3: [2.30615394 0.8595854  1.65049021]\n",
      "Iteration 4: [2.30517438 0.85990678 1.65067606]\n",
      "Iteration 5: [2.30518067 0.85988473 1.65067201]\n",
      "Converged\n",
      "[2.30518067 0.85988473 1.65067201]\n",
      "\n",
      "Matrix 5: Diagonal Dominant\n",
      "Iteration 1: [1.8        1.77142857 1.63809524]\n",
      "Iteration 2: [1.1047619  1.50204082 2.03061224]\n",
      "Iteration 3: [1.14632653 1.37801749 2.03050049]\n",
      "Iteration 4: [1.1835447  1.36741566 2.01365837]\n",
      "Iteration 5: [1.18840946 1.37083776 2.01065564]\n",
      "Iteration 6: [1.18768311 1.37190321 2.01084124]\n",
      "Iteration 7: [1.18734491 1.37194681 2.01100308]\n",
      "Converged\n",
      "[1.18734491 1.37194681 2.01100308]\n",
      "\n"
     ]
    }
   ],
   "source": [
    "x = [\n",
    "    [\n",
    "        [9, -1, 2],\n",
    "        [1, 8, -1],\n",
    "        [3, -2, 10]\n",
    "    ],\n",
    "    [\n",
    "        [7, 2, 1],\n",
    "        [1, 6, 2],\n",
    "        [2, 3, 9]\n",
    "    ],\n",
    "    [\n",
    "        [6, 1, 2],\n",
    "        [2, 7, 1],\n",
    "        [3, 2, 8]\n",
    "    ],\n",
    "    [\n",
    "        [8, 1, -2],\n",
    "        [2, 9, 1],\n",
    "        [1, -1, 7]\n",
    "    ],\n",
    "    [\n",
    "        [10, 3, 1],\n",
    "        [2, 7, 2],\n",
    "        [3, 1, 6]\n",
    "    ]\n",
    "]\n",
    "y = [\n",
    "    [17, 15, 19],\n",
    "    [12, 13, 14],\n",
    "    [13, 15, 16],\n",
    "    [16, 14, 13],\n",
    "    [18, 16, 17]\n",
    "]\n",
    "\n",
    "def DiagonalDominant(x):\n",
    "    x = np.array(np.abs(x))\n",
    "    diag = np.diag(np.abs(x))\n",
    "    off_diag = np.sum(x,axis=1) - diag\n",
    "    return np.all(diag>off_diag)\n",
    "\n",
    "def GaussSeidel(x,y,tol = 0.001, max = 45):\n",
    "    x = np.array(x)\n",
    "    diag = np.diag(x)\n",
    "    x = -x\n",
    "    np.fill_diagonal(x,0)\n",
    "    old_res = np.zeros(len(x[0]))\n",
    "    for i in range(max):\n",
    "        new_res = np.array(old_res)\n",
    "        for index, row in enumerate(x):\n",
    "            new_res[index] = (y[index]+np.dot(row,new_res))/diag[index]\n",
    "        print(f\"Iteration {i+1}: {new_res}\")\n",
    "        distance = np.sqrt(np.dot(old_res-new_res,old_res-new_res))\n",
    "        if distance<=tol:\n",
    "            print(\"Converged\")\n",
    "            print(new_res)\n",
    "            return\n",
    "        old_res = new_res\n",
    "\n",
    "def runner(x,y):\n",
    "    for idx, matrix in enumerate(x):\n",
    "        print(f\"Matrix {idx+1}: \", end=\"\")\n",
    "        if DiagonalDominant(matrix):\n",
    "            print(\"Diagonal Dominant\")\n",
    "            GaussSeidel(matrix,y[idx])\n",
    "        else:\n",
    "            print(\"Not Diagonal Dominant\")\n",
    "        print()\n",
    "\n",
    "runner(x,y)"
   ]
  },
  {
   "cell_type": "markdown",
   "id": "c161a72d",
   "metadata": {},
   "source": [
    "soal 3"
   ]
  },
  {
   "cell_type": "code",
   "execution_count": 5,
   "id": "aa96e92e",
   "metadata": {},
   "outputs": [
    {
     "name": "stdout",
     "output_type": "stream",
     "text": [
      "Matrix 1: Diagonal Dominant\n",
      "Iteratrion 1: [1.83333333 1.5952381  1.2172619 ]\n",
      "Iteratrion 2: [1.09871032 1.52628968 1.40953621]\n",
      "Iteratrion 3: [1.0896474  1.50011663 1.41507357]\n",
      "Iteratrion 4: [1.09744886 1.49821108 1.4133614 ]\n",
      "Iteratrion 5: [1.09836941 1.49832417 1.41311713]\n",
      "Converged\n",
      "[1.09836941 1.49832417 1.41311713]\n",
      "\n",
      "Matrix 2: Diagonal Dominant\n",
      "Iteratrion 1: [2.28571429 1.39285714 1.45634921]\n",
      "Iteratrion 2: [2.0685941  1.29223356 1.46929327]\n",
      "Iteratrion 3: [2.050521   1.29739297 1.47187466]\n",
      "Iteratrion 4: [2.05052052 1.29707047 1.47183888]\n",
      "Converged\n",
      "[2.05052052 1.29707047 1.47183888]\n",
      "\n",
      "Matrix 3: Diagonal Dominant\n",
      "Iteratrion 1: [2.4        2.1        0.87142857]\n",
      "Iteratrion 2: [1.63142857 2.37333333 1.05197279]\n",
      "Iteratrion 3: [1.50454422 2.42457143 1.08090573]\n",
      "Iteratrion 4: [1.48272342 2.43303039 1.08593182]\n",
      "Iteratrion 5: [1.47902119 2.43448511 1.08678179]\n",
      "Iteratrion 6: [1.47839026 2.43473192 1.08692679]\n",
      "Converged\n",
      "[1.47839026 2.43473192 1.08692679]\n",
      "\n",
      "Matrix 4: Diagonal Dominant\n",
      "Iteratrion 1: [2.11111111 1.68253968 1.4973545 ]\n",
      "Iteratrion 2: [1.90358613 1.31401696 1.66253744]\n",
      "Iteratrion 3: [2.00383372 1.23817967 1.62505319]\n",
      "Iteratrion 4: [2.01652154 1.24526436 1.6175285 ]\n",
      "Iteratrion 5: [2.01411109 1.24810297 1.61826063]\n",
      "Iteratrion 6: [2.01356163 1.24805078 1.61854405]\n",
      "Converged\n",
      "[2.01356163 1.24805078 1.61854405]\n",
      "\n",
      "Matrix 5: Diagonal Dominant\n",
      "Iteratrion 1: [1.75       1.25       1.46428571]\n",
      "Iteratrion 2: [1.87946429 1.39831349 1.40610828]\n",
      "Iteratrion 3: [1.92381484 1.38692149 1.39506412]\n",
      "Iteratrion 4: [1.92234736 1.38585742 1.39563541]\n",
      "Iteratrion 5: [1.92200993 1.38595839 1.39571739]\n",
      "Converged\n",
      "[1.92200993 1.38595839 1.39571739]\n",
      "\n"
     ]
    }
   ],
   "source": [
    "x = [\n",
    "    [\n",
    "        [6, 2, 1],\n",
    "        [1, 7, 1],\n",
    "        [2, 1, 8]\n",
    "    ],\n",
    "    [\n",
    "        [7, -1, 2],\n",
    "        [3, 8, 1],\n",
    "        [1, -1, 9]\n",
    "    ],\n",
    "    [\n",
    "        [5, 1, 2],\n",
    "        [1, 6, -1],\n",
    "        [2, 1, 7]\n",
    "    ],\n",
    "    [\n",
    "        [9, 2, -1],\n",
    "        [2, 7, 2],\n",
    "        [3, 1, 6]\n",
    "    ],\n",
    "    [\n",
    "        [8, -2, 1],\n",
    "        [1, 9, -1],\n",
    "        [2, 1, 7]\n",
    "    ]\n",
    "]\n",
    "y = [\n",
    "    [11, 13, 15],\n",
    "    [16, 18, 14],\n",
    "    [12, 15, 13],\n",
    "    [19, 16, 17],\n",
    "    [14, 13, 15]\n",
    "]\n",
    "\n",
    "def DiagonalDominant(x):\n",
    "    x = np.array(x)\n",
    "    diag = np.diag(np.abs(x))\n",
    "    off_diag = np.sum(x,axis=1) - diag\n",
    "    return np.all(diag>off_diag)\n",
    "\n",
    "def GaussSeidel(x,y,tol,max):\n",
    "    x = np.array(x)\n",
    "    y = np.array(y)\n",
    "    diag = np.diag(x)\n",
    "    x = -x\n",
    "    np.fill_diagonal(x,0)\n",
    "    old_res = np.zeros(len(x[0]))\n",
    "    for i in range(max):\n",
    "        new_res = np.array(old_res)\n",
    "        for index,row in enumerate(x):\n",
    "            new_res[index] = (y[index]+np.dot(row,new_res))/diag[index]\n",
    "        print(f\"Iteratrion {i+1}: {new_res}\")\n",
    "        distance = np.sqrt(np.dot(old_res-new_res,old_res-new_res))\n",
    "        if distance<=tol:\n",
    "            print(f\"Converged\\n{new_res}\")\n",
    "            return\n",
    "        old_res = new_res\n",
    "\n",
    "def run(x,y):\n",
    "    for idx, matrix in enumerate(x):\n",
    "        print(f\"Matrix {idx+1}: \", end=\"\")\n",
    "        if DiagonalDominant(matrix):\n",
    "            print(\"Diagonal Dominant\")\n",
    "            GaussSeidel(matrix, y[idx], 0.001, 45)\n",
    "        else:\n",
    "            print(\"Not Diagonal Dominant\")\n",
    "        print()\n",
    "\n",
    "run(x,y)"
   ]
  },
  {
   "cell_type": "markdown",
   "id": "246a013a",
   "metadata": {},
   "source": [
    "## B. Linear Regression"
   ]
  },
  {
   "cell_type": "markdown",
   "id": "a3806b29",
   "metadata": {},
   "source": [
    "4. Diberikan: x = [1, 2, 3, 4, 5], y = [3, 5, 7, 9, 11]\n",
    "Hitung y = mx + c, tampilkan nilai m dan c, dan visualisasikan dalam 1 plot."
   ]
  },
  {
   "cell_type": "code",
   "execution_count": 6,
   "id": "f530f302",
   "metadata": {},
   "outputs": [
    {
     "name": "stdout",
     "output_type": "stream",
     "text": [
      "Alpha (m and c):[[2.]\n",
      " [1.]]\n"
     ]
    },
    {
     "data": {
      "image/png": "[encoded data removed]",
      "text/plain": [
       "<Figure size 640x480 with 1 Axes>"
      ]
     },
     "metadata": {},
     "output_type": "display_data"
    }
   ],
   "source": [
    "x = [1, 2, 3, 4, 5]\n",
    "y = [3, 5, 7, 9, 11]\n",
    "\n",
    "x = np.array(x)\n",
    "y = np.array(y)\n",
    "A = np.vstack([x, np.ones(len(x))]).T\n",
    "Y = y[:,np.newaxis]\n",
    "alpha = np.dot(np.dot(np.linalg.inv(np.dot(A.T,A)),A.T),Y)\n",
    "print(f\"Alpha (m and c):{alpha}\")\n",
    "plt.plot(x,y,\"ro\")\n",
    "plt.plot(x,alpha[0]*x + alpha[1], \"b-\")\n",
    "plt.show()"
   ]
  },
  {
   "cell_type": "markdown",
   "id": "13f15c70",
   "metadata": {},
   "source": [
    "5. Data: x = [2.1, 2.3, 2.6, 3.0, 3.5, 4.1], y = [5.2, 5.5, 6.0, 6.8, 7.1, 8.0]\n",
    " Hitung regresi linier."
   ]
  },
  {
   "cell_type": "code",
   "execution_count": 7,
   "id": "4eebd016",
   "metadata": {},
   "outputs": [
    {
     "name": "stdout",
     "output_type": "stream",
     "text": [
      "Alpha (M dan C): [[1.38018433]\n",
      " [2.38479263]]\n"
     ]
    },
    {
     "data": {
      "image/png": "[encoded data removed]",
      "text/plain": [
       "<Figure size 640x480 with 1 Axes>"
      ]
     },
     "metadata": {},
     "output_type": "display_data"
    }
   ],
   "source": [
    "x = [2.1, 2.3, 2.6, 3.0, 3.5, 4.1]\n",
    "y = [5.2, 5.5, 6.0, 6.8, 7.1, 8.0]\n",
    "\n",
    "x = np.array(x)\n",
    "y = np.array(y)\n",
    "\n",
    "A = np.vstack([x,np.ones(len(x))]).T\n",
    "Y = y[:,np.newaxis]\n",
    "alpha = np.dot(np.dot(np.linalg.inv(np.dot(A.T,A)),A.T),Y)\n",
    "\n",
    "print(f\"Alpha (M dan C): {alpha}\")\n",
    "plt.plot(x,y,\"ro\")\n",
    "plt.plot(x,alpha[0]*x + alpha[1], \"b-\")\n",
    "plt.show()"
   ]
  },
  {
   "cell_type": "markdown",
   "id": "b96bdf9d",
   "metadata": {},
   "source": [
    "6. Gunakan: x = [1.5, 2.0, 2.5, 3.0, 3.5], y = [4.0, 5.1, 6.2, 7.3, 8.4]\n",
    " Plot hasil regresi dan data asli."
   ]
  },
  {
   "cell_type": "code",
   "execution_count": 8,
   "id": "c76080ce",
   "metadata": {},
   "outputs": [
    {
     "name": "stdout",
     "output_type": "stream",
     "text": [
      "Alpha (M and C): [[2.2]\n",
      " [0.7]]\n"
     ]
    },
    {
     "data": {
      "image/png": "[encoded data removed]",
      "text/plain": [
       "<Figure size 640x480 with 1 Axes>"
      ]
     },
     "metadata": {},
     "output_type": "display_data"
    }
   ],
   "source": [
    "x = [1.5, 2.0, 2.5, 3.0, 3.5] \n",
    "y = [4.0, 5.1, 6.2, 7.3, 8.4]\n",
    "\n",
    "x = np.array(x)\n",
    "y = np.array(y)\n",
    "A = np.vstack([x,np.ones(len(x))]).T    \n",
    "Y = y[:,np.newaxis]\n",
    "alpha = np.dot(np.dot(np.linalg.inv(np.dot(A.T,A)),A.T),Y)\n",
    "print(f\"Alpha (M and C): {alpha}\")\n",
    "plt.plot(x,y,\"ro\")\n",
    "plt.plot(x, alpha[0]*x+alpha[1], \"b-\")\n",
    "plt.show()"
   ]
  },
  {
   "cell_type": "markdown",
   "id": "ba538300",
   "metadata": {},
   "source": [
    "## C. Newton Raphson\n"
   ]
  },
  {
   "cell_type": "markdown",
   "id": "ccd44ab2",
   "metadata": {},
   "source": [
    "7. Gunakan metode **Newton Raphson** untuk menentukan root of equation dari persamaan, dan maksimal iterasi = 20 \\(ε = 0.001\\) & Tebakan awal 1.5\n",
    "\n",
    "$f(x) = x^3-x-2$ "
   ]
  },
  {
   "cell_type": "code",
   "execution_count": 9,
   "id": "588f8efb",
   "metadata": {},
   "outputs": [
    {
     "name": "stdout",
     "output_type": "stream",
     "text": [
      "Iteration 1: 1.5217391304347827\n",
      "Found root at 1 Iteration: 1.5217391304347827\n"
     ]
    }
   ],
   "source": [
    "def f(x):\n",
    "    return x**3-x-2\n",
    "\n",
    "def g(x):\n",
    "    return 3*x**2-1\n",
    "\n",
    "def NewtonRaphson(x0, tol=0.01, max=20, idx = 0):\n",
    "    x1 = x0 - (f(x0)/g(x0))\n",
    "    fx1 = f(x1)\n",
    "    if idx <= max:\n",
    "        print(f\"Iteration {idx+1}: {x1}\")\n",
    "        if np.abs(fx1)<tol:\n",
    "            print(f\"Found root at {idx+1} Iteration: {x1}\")\n",
    "            return\n",
    "        else:\n",
    "            NewtonRaphson(x1,tol,max, idx+1)\n",
    "    else:\n",
    "        return \"Not Found\"\n",
    "\n",
    "NewtonRaphson(1.5)"
   ]
  },
  {
   "cell_type": "markdown",
   "id": "43d75650",
   "metadata": {},
   "source": [
    "8. Gunakan metode **Newton Raphson** untuk menentukan root of equation dari persamaan, dan maksimal iterasi = 20 \\(ε = 0.005\\) & Tebakan awal 1.2\n",
    "\n",
    "$f(x) = x^3+4x^2-10$ "
   ]
  },
  {
   "cell_type": "code",
   "execution_count": 10,
   "id": "2d1fa468",
   "metadata": {},
   "outputs": [
    {
     "name": "stdout",
     "output_type": "stream",
     "text": [
      "Iteration 1: 1.3804597701149426\n",
      "Iteration 2: 1.3653424684632482\n",
      "Found root at 2 Iteration: 1.3653424684632482\n"
     ]
    }
   ],
   "source": [
    "def f(x):\n",
    "    return x**3+4*(x**2)-10\n",
    "def g(x):\n",
    "    return 3*(x**2)+8*x\n",
    "def NewtonRaphson(x0,tol,max):\n",
    "    for i in range(max):\n",
    "        x1 = x0 - f(x0)/g(x0)\n",
    "        fx1 = f(x1)\n",
    "        print(f\"Iteration {i+1}: {x1}\")\n",
    "        if np.abs(fx1) <= tol:\n",
    "            print(f\"Found root at {i+1} Iteration: {x1}\")\n",
    "            return\n",
    "        x0 = x1\n",
    "    print(\"Not Found\")\n",
    "    return\n",
    "\n",
    "NewtonRaphson(1.2, 0.005, 20)"
   ]
  },
  {
   "cell_type": "markdown",
   "id": "58511da8",
   "metadata": {},
   "source": [
    "9. Gunakan metode **Newton Raphson** untuk menentukan root of equation dari persamaan, dan maksimal iterasi = 20 \\(ε = 0.003\\) & Tebakan awal 1\n",
    "\n",
    "$f(x) = 3x^5-x^3+2x-7$ "
   ]
  },
  {
   "cell_type": "code",
   "execution_count": 11,
   "id": "f75b2295",
   "metadata": {},
   "outputs": [
    {
     "name": "stdout",
     "output_type": "stream",
     "text": [
      "Iteration 1: 1.2142857142857142\n",
      "Iteration 2: 1.162672109711684\n",
      "Iteration 3: 1.1576408093453536\n",
      "Root found at iteration 3: 1.1576408093453536\n"
     ]
    }
   ],
   "source": [
    "def f(x):\n",
    "    return 3*(x**5)-x**3+2*x-7\n",
    "\n",
    "def g(x):\n",
    "    return 15*(x**4)-3*(x**2)+2\n",
    "\n",
    "def NewtonRaphson(x0,tol,max):\n",
    "    for i in range(max):\n",
    "        x1 = x0 - f(x0)/g(x0)\n",
    "        fx1 = f(x1)\n",
    "        print(f\"Iteration {i+1}: {x1}\")\n",
    "        if np.abs(fx1) <= tol:\n",
    "            print(f\"Root found at iteration {i+1}: {x1}\")\n",
    "            return\n",
    "        x0 = x1\n",
    "\n",
    "NewtonRaphson(1, 0.003, 20)"
   ]
  },
  {
   "cell_type": "markdown",
   "id": "0fbbbcc6",
   "metadata": {},
   "source": [
    "## D. Integration"
   ]
  },
  {
   "cell_type": "markdown",
   "id": "7ac58d9f",
   "metadata": {},
   "source": [
    "10. Gunakan metode **Mid Riemann Sum** dan  **Right Riemann Sum** Untuk menentukan estimasi luas area dengan persamaan\n",
    "\n",
    "$f(x) = x^2 + 2x + 1 dx$\n",
    "\n",
    "Pada interval $x = 1$ hingga $x = 5$, dengan interval $n = 1000$"
   ]
  },
  {
   "cell_type": "code",
   "execution_count": 12,
   "id": "3cb4cb3c",
   "metadata": {},
   "outputs": [
    {
     "name": "stdout",
     "output_type": "stream",
     "text": [
      "69.39740808542943\n",
      "69.33334402136538\n"
     ]
    }
   ],
   "source": [
    "def f(x):\n",
    "    return x**2+2*x+1\n",
    "\n",
    "atas = 5 \n",
    "bawah = 1\n",
    "n = 1000\n",
    "\n",
    "deltaX = (atas-bawah)/(n-1)\n",
    "\n",
    "x = np.linspace(bawah, atas, n)\n",
    "\n",
    "y = f(x)\n",
    "RightRiemann = np.sum(deltaX*y[1:])\n",
    "mid = (y[1:] + y[:-1]) /2\n",
    "MidRiemann = np.sum(deltaX*mid)\n",
    "\n",
    "print(RightRiemann)\n",
    "print(MidRiemann)"
   ]
  },
  {
   "cell_type": "markdown",
   "id": "23fa0a06",
   "metadata": {},
   "source": [
    "11. Gunakan metode **Left Riemann Sum**, **Mid Riemann Sum**, dan  **Right Riemann Sum** Untuk menentukan estimasi luas area dengan persamaan\n",
    "\n",
    "$f(x) = (sin(x) + x^2)dx$\n",
    "\n",
    "Pada interval $x = 0$ hingga $x = 3.14$, dengan interval $n = 5000$"
   ]
  },
  {
   "cell_type": "code",
   "execution_count": 13,
   "id": "c8f1ae4b",
   "metadata": {},
   "outputs": [
    {
     "name": "stdout",
     "output_type": "stream",
     "text": [
      "Left Riemann: 12.316616505214359\n",
      "Right Riemann: 12.32281057301395\n",
      "Mid Riemann: 12.319713539114154\n"
     ]
    }
   ],
   "source": [
    "def f(x):\n",
    "    return np.sin(x) + x**2\n",
    "\n",
    "atas = 3.14\n",
    "bawah = 0\n",
    "n = 5000\n",
    "\n",
    "deltaX = (atas - bawah)/(n-1)\n",
    "x = np.linspace(bawah, atas, n)\n",
    "y = f(x)\n",
    "\n",
    "LeftRiemann = np.sum(deltaX*y[:-1])\n",
    "RightRiemann = np.sum(deltaX*y[1:])\n",
    "mid = (y[:-1]+y[1:])/2\n",
    "MidRiemann = np.sum(deltaX*mid)\n",
    "\n",
    "print(f\"Left Riemann: {LeftRiemann}\")\n",
    "print(f\"Right Riemann: {RightRiemann}\")\n",
    "print(f\"Mid Riemann: {MidRiemann}\")"
   ]
  }
 ],
 "metadata": {
  "kernelspec": {
   "display_name": "base",
   "language": "python",
   "name": "python3"
  },
  "language_info": {
   "codemirror_mode": {
    "name": "ipython",
    "version": 3
   },
   "file_extension": ".py",
   "mimetype": "text/x-python",
   "name": "python",
   "nbconvert_exporter": "python",
   "pygments_lexer": "ipython3",
   "version": "3.12.7"
  }
 },
 "nbformat": 4,
 "nbformat_minor": 5
}
