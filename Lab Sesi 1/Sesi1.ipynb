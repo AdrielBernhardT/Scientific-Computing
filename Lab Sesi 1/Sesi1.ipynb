{
 "cells": [
  {
   "cell_type": "code",
   "execution_count": 7,
   "metadata": {},
   "outputs": [
    {
     "name": "stdout",
     "output_type": "stream",
     "text": [
      "Halo Adick Adick wehehehe\n",
      "Python A6\n"
     ]
    }
   ],
   "source": [
    "print(\"Halo Adick Adick\", end=\" \")\n",
    "print(\"wehehehe\")\n",
    "print(\"Python A6\")"
   ]
  },
  {
   "cell_type": "code",
   "execution_count": 9,
   "metadata": {},
   "outputs": [
    {
     "name": "stdout",
     "output_type": "stream",
     "text": [
      "1 2 3 4\n"
     ]
    }
   ],
   "source": [
    "print(1,2,3,4 , sep=\"*\")"
   ]
  },
  {
   "cell_type": "code",
   "execution_count": 10,
   "metadata": {},
   "outputs": [
    {
     "name": "stdout",
     "output_type": "stream",
     "text": [
      "x = 5 y = 10\n"
     ]
    }
   ],
   "source": [
    "x = 5\n",
    "y = 10\n",
    "print(\"x =\", x, \"y =\", y)"
   ]
  },
  {
   "cell_type": "code",
   "execution_count": 15,
   "metadata": {},
   "outputs": [
    {
     "name": "stdout",
     "output_type": "stream",
     "text": [
      "z = 2.18\n"
     ]
    }
   ],
   "source": [
    "z = 2.183\n",
    "print(\"z = %.2f\" %z)"
   ]
  },
  {
   "cell_type": "code",
   "execution_count": 6,
   "metadata": {},
   "outputs": [
    {
     "name": "stdout",
     "output_type": "stream",
     "text": [
      "510\n"
     ]
    }
   ],
   "source": [
    "x = input(\"Masukkan sebuah angka = \")\n",
    "x = int (x)\n",
    "print ( x + 10 )"
   ]
  },
  {
   "cell_type": "code",
   "execution_count": 7,
   "metadata": {},
   "outputs": [
    {
     "name": "stdout",
     "output_type": "stream",
     "text": [
      "10.0\n"
     ]
    }
   ],
   "source": [
    "import math\n",
    "\n",
    "a,b = input().split()\n",
    "\n",
    "a = int(a)\n",
    "b = int(b)\n",
    "\n",
    "print(math.sqrt(a*b))"
   ]
  },
  {
   "cell_type": "code",
   "execution_count": 8,
   "metadata": {},
   "outputs": [
    {
     "name": "stdout",
     "output_type": "stream",
     "text": [
      "Sepuluh\n"
     ]
    }
   ],
   "source": [
    "x = 10\n",
    "\n",
    "if(x==10):\n",
    "    print(\"Sepuluh\")\n",
    "else:\n",
    "    print(\"bukan sepuluh\")\n"
   ]
  },
  {
   "cell_type": "code",
   "execution_count": 9,
   "metadata": {},
   "outputs": [
    {
     "name": "stdout",
     "output_type": "stream",
     "text": [
      "bukan 1 dan 2\n"
     ]
    }
   ],
   "source": [
    "x = 5\n",
    "\n",
    "if (x==1) :\n",
    "    print(\"satu\")\n",
    "elif (x==2) :\n",
    "    print(\"dua\")\n",
    "else:\n",
    "    print(\"bukan 1 dan 2\")"
   ]
  },
  {
   "cell_type": "code",
   "execution_count": 11,
   "metadata": {},
   "outputs": [
    {
     "name": "stdout",
     "output_type": "stream",
     "text": [
      "dua atau dua\n"
     ]
    }
   ],
   "source": [
    "x = 2\n",
    "z = 1\n",
    "\n",
    "if (x==1 and z==1) :\n",
    "    print(\"satu satu\")\n",
    "elif (x==2 or z==2) :\n",
    "    print(\"dua atau dua\")\n",
    "else:\n",
    "    print(\"bukan 1, 2\")"
   ]
  },
  {
   "cell_type": "code",
   "execution_count": 14,
   "metadata": {},
   "outputs": [
    {
     "name": "stdout",
     "output_type": "stream",
     "text": [
      "range(1, 5)\n"
     ]
    }
   ],
   "source": [
    "x = range (1, 5)\n",
    "print (x)\n"
   ]
  },
  {
   "cell_type": "code",
   "execution_count": 15,
   "metadata": {},
   "outputs": [
    {
     "name": "stdout",
     "output_type": "stream",
     "text": [
      "1  2  3  4  \n"
     ]
    }
   ],
   "source": [
    "for x in range(1,5):\n",
    "    print(x,\" \", end='')\n",
    "print()"
   ]
  },
  {
   "cell_type": "code",
   "execution_count": 16,
   "metadata": {},
   "outputs": [
    {
     "name": "stdout",
     "output_type": "stream",
     "text": [
      "1  3  \n"
     ]
    }
   ],
   "source": [
    "for x in range(1,5,2):\n",
    "    print(x,\" \", end='')\n",
    "print()"
   ]
  },
  {
   "cell_type": "code",
   "execution_count": null,
   "metadata": {},
   "outputs": [],
   "source": [
    "for x in range(5,1,-1):\n",
    "    print(x,\" \", end='')\n",
    "print()"
   ]
  },
  {
   "cell_type": "code",
   "execution_count": 18,
   "metadata": {},
   "outputs": [
    {
     "name": "stdout",
     "output_type": "stream",
     "text": [
      "3 6 9 "
     ]
    }
   ],
   "source": [
    "for x in range(1, 11):\n",
    "    if (x % 3 ==0) :\n",
    "        print(x, end=\" \")\n"
   ]
  },
  {
   "cell_type": "code",
   "execution_count": 20,
   "metadata": {},
   "outputs": [
    {
     "name": "stdout",
     "output_type": "stream",
     "text": [
      "Batas = \n",
      "1 2 3 4 5 \n",
      "1 2 3 4 5 \n",
      "1 2 3 4 5 \n",
      "1 2 3 4 5 \n",
      "1 2 3 4 5 \n"
     ]
    }
   ],
   "source": [
    "print(\"Batas = \")\n",
    "batas = int(input())\n",
    "for b in range (1, batas+1): # b => Baris, arahnya ke Bawah\n",
    "    for k in range (1, batas+1):  # k => Kolom, arahnya ke Kanan\n",
    "        print(k,\" \", sep=\"\", end=\"\")\n",
    "    print(\"\")"
   ]
  },
  {
   "cell_type": "code",
   "execution_count": 21,
   "metadata": {},
   "outputs": [
    {
     "name": "stdout",
     "output_type": "stream",
     "text": [
      "Batas = \n",
      "1 \n",
      "1 2 \n",
      "1 2 3 \n",
      "1 2 3 4 \n",
      "1 2 3 4 5 \n"
     ]
    }
   ],
   "source": [
    "print(\"Batas = \")\n",
    "batas = int(input())\n",
    "for b in range (1, batas+1): # b => Baris, arahnya ke Bawah\n",
    "    for k in range (1, b+1):  # k => Kolom, arahnya ke Kanan\n",
    "        print(k,\" \", sep=\"\", end=\"\")\n",
    "    print(\"\")\n"
   ]
  },
  {
   "cell_type": "code",
   "execution_count": 25,
   "metadata": {},
   "outputs": [
    {
     "name": "stdout",
     "output_type": "stream",
     "text": [
      "Batas = 1 2 3 4 5 "
     ]
    }
   ],
   "source": [
    "print(\"Batas = \", end=\"\")\n",
    "batas = int(input())\n",
    "\n",
    "a = int(a)\n",
    "a = 1\n",
    "while ( a <= batas ) : #=> selama nilai a <= batas, loop akan jalan\n",
    "    print(a,\" \", sep=\"\", end=\"\")\n",
    "    a = a + 1"
   ]
  },
  {
   "cell_type": "code",
   "execution_count": 26,
   "metadata": {},
   "outputs": [
    {
     "name": "stdout",
     "output_type": "stream",
     "text": [
      "tebakanmu = \n",
      "benar !\n"
     ]
    }
   ],
   "source": [
    "teb = 0\n",
    "ans = 7\n",
    "\n",
    "while(teb != ans) :\n",
    "    print(\"tebakanmu = \")\n",
    "    teb = int(input())\n",
    "    \n",
    "    if(teb != ans) :\n",
    "        print(\"salah !\")\n",
    "    else:\n",
    "        print(\"benar !\")"
   ]
  },
  {
   "cell_type": "code",
   "execution_count": 27,
   "metadata": {},
   "outputs": [
    {
     "name": "stdout",
     "output_type": "stream",
     "text": [
      "1 2 1 2 4 5 7 8 10 "
     ]
    }
   ],
   "source": [
    "#BREAK\n",
    "#untuk menghentikan perulangan, mengabaikan semua perintah dibawahnya\n",
    "for a in range(1, 11):\n",
    "    if(a%3 ==0):\n",
    "        break\n",
    "    print(a, \" \", sep=\"\", end=\"\");\n",
    "\n",
    "#CONTINUE\n",
    "#untuk melanjutkan perulangan, mengabaikan semua perintah dibawahnya\n",
    "for a in range(1, 11):\n",
    "    if(a%3 ==0):\n",
    "        continue\n",
    "    print(a, \" \", sep=\"\", end=\"\");"
   ]
  },
  {
   "cell_type": "code",
   "execution_count": 4,
   "metadata": {},
   "outputs": [
    {
     "name": "stdout",
     "output_type": "stream",
     "text": [
      "1 2 4 6 "
     ]
    }
   ],
   "source": [
    "n = 0\n",
    "while(True) :\n",
    "    n = int(input())\n",
    "    if(n==-1):\n",
    "        break;\n",
    "    print(n, \" \", sep=\"\", end=\"\");\t"
   ]
  }
 ],
 "metadata": {
  "kernelspec": {
   "display_name": "Python 3",
   "language": "python",
   "name": "python3"
  },
  "language_info": {
   "codemirror_mode": {
    "name": "ipython",
    "version": 3
   },
   "file_extension": ".py",
   "mimetype": "text/x-python",
   "name": "python",
   "nbconvert_exporter": "python",
   "pygments_lexer": "ipython3",
   "version": "3.12.5"
  }
 },
 "nbformat": 4,
 "nbformat_minor": 2
}
